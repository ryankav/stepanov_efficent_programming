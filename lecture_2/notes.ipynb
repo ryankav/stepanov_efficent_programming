{
 "cells": [
  {
   "cell_type": "markdown",
   "metadata": {},
   "source": [
    "# Lecture 2\n",
    "\n",
    "## Summary\n",
    "The main purpose of this lecture was to work through the conept of singleton.\n",
    "\n",
    "The purpose of doing singleton was to demonstrate the basic way to construct a class in c++ such that it is semi-regular, regular and totally ordered and to explain the logic behind the specific syntax.\n",
    "\n",
    "(The titled terms below are the c++ defined terms as made clear in lecture 1 Stepanov would rather that regular types be defined as what totally ordered types are)"
   ]
  },
  {
   "cell_type": "markdown",
   "metadata": {},
   "source": [
    "### Semi-Regular\n",
    "\n",
    "In order to make the type semi-regular need to specify the default constructor, the destructor, the copy constructor and the assignment operator as discussed in lecture 1.\n",
    "\n",
    "Of note Stepanov highlights that the type paramater isn't needed when passing in the class to the copy or assignment constructor the class name alone is enough.\n",
    "\n",
    "The only other point here to note is that by convention the assignment operator returns a pointer to the instance."
   ]
  },
  {
   "cell_type": "markdown",
   "metadata": {},
   "source": [
    "### Regular\n",
    "\n",
    "To make the type regular need to define equality. Here Stepanov, as he mentioned in the first lecture, discusses that the equality operator shouldn't really be a member function as that breaks the symmetry of the operator as one of the objects is performing the comparison.  \n",
    "  \n",
    "The way around this is with the use of the `friend` keyword so that the equlity operator takes in both instances to be compared.\n",
    "\n",
    "The **major** point Stepanov hammers home is, unsurprisingly, that the inequality operator should be defined simply as the negation of the equality operator and the extra degree of freedom given by the standards/language should never be used."
   ]
  },
  {
   "cell_type": "markdown",
   "metadata": {},
   "source": [
    "### Totally ordered\n",
    "\n",
    "With total ordering the logic for the less than operator being the basis of all the others is discussed. The reason for the less than operator being singled out Stepanov explains was to do with what seemed the most natural and how it would influence the API elsewhere. The example he gives is with sort and how the default for sort should be that numbers become ascending. So if that is to be default then the comparison operator would be less than. The natural side of it seems to be based more around the fact we read left to right, and given we count upwards, meaning that the smaller number is on the left.\n",
    "\n",
    "Either way the intresting point is the manner in which all the other operators are defined clearly by the implementation of the less than operator. Which one of the four of is chosen is just an intersting side point."
   ]
  },
  {
   "cell_type": "markdown",
   "metadata": {},
   "source": [
    "### Type Conversion\n",
    "\n",
    "The last thing mentioned is the type conversions. How they are a hangover from *C*, due to the fact function overloading didn't exist originally.  \n",
    "  \n",
    "It is hard to prevent type conversions given the legacy of c++ but a best attempt should be made.\n",
    "\n"
   ]
  }
 ],
 "metadata": {
  "language_info": {
   "name": "python"
  },
  "orig_nbformat": 4
 },
 "nbformat": 4,
 "nbformat_minor": 2
}
