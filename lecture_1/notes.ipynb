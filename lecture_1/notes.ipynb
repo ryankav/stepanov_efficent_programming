{
 "cells": [
  {
   "cell_type": "markdown",
   "metadata": {},
   "source": [
    "## Part 2\n",
    "\n",
    "Describes the aim of the STL was to define standard data structures. Which will work for all reasonable subset of types - this means for built in types and containers of builtin types. So the challenge was to describe what properties would make any type work with a standard container.  \n",
    "  \n",
    "Therefore had to be able to say that STL would work for all builtin types and types like them. Which, leaves defining what it means to be like a built in type open. However, the real key is that the containers must also fulfil this criteria and also be \"like\" a built in type. As will want to be able to use any builtin container as a type. After all vector\\<T\\> is a different type to type T. In short the key point is that the STL containers have to be able to be nested, vector\\<T\\> should work just as well when T is of type vector\\<int\\> as when T is of type int.   \n",
    "\n",
    "Therefore the algorithms will rely on the operations defined on regular types. The operations Listed are:\n",
    " - copy\n",
    " - assign\n",
    " - destruct\n",
    " - default\n",
    " - equal\n",
    " - less\n",
    "  \n",
    "The design Stepanov followed was that \"whatever is a natural idiomatic expression in C should be... (the same) for regular types\".\n",
    "\n",
    "### Assign\n",
    "\n",
    "Relatively simple already have an allocated variable therefore should be able to: \n",
    "```cpp\n",
    "a = b;\n",
    "```\n",
    "\n",
    "### Default\n",
    "\n",
    "Following the design choice described relating to expressions in C, have to allow allocation in the following ways:\n",
    "```cpp\n",
    "T a = b;\n",
    "\n",
    "//or\n",
    "\n",
    "T a;\n",
    "a = b;\n",
    "```\n",
    "\n",
    "Types which just provide the above and destructor are called *Semiregular* types"
   ]
  },
  {
   "cell_type": "markdown",
   "metadata": {},
   "source": [
    "### Copy  \n",
    "  \n",
    "A type that provides a copy constructor as well as the three operations needed to be *semiregular* is a *regular* type.\n",
    "\n",
    "For any regular type there should be a copy constructor. This means: \n",
    "\n",
    "```cpp\n",
    "T a(b);\n",
    "T a = b;\n",
    "```\n",
    " \n",
    "That these two statements should be equivalent when b is of type T.  \n",
    "  \n",
    "What is needed to express the semantics of copy is an equality relation. An equivalence relation, as noted in the lecture isn't strong enough. Whilst we haven't defined what this equality relation we know thw semantic meaning is: \n",
    "```cpp\n",
    "// a == b; and &a != &b\n",
    "``` . \n",
    "  \n",
    "So in order for types to implement copy they must have equality, and inequality, defined upon them.  \n",
    "  \n",
    "According to Bjarne if a type implements <, >, <=, >= then it is a totallyOredered type. Stepanov would say these should be part of a regular type but Bjarne's stance is that this is too strong a position to hold. **Preserve natural meaning** Stepanov makes it clear that the lack of enforment on overriding operators should be enforced by the developer."
   ]
  }
 ],
 "metadata": {
  "language_info": {
   "name": "python"
  },
  "orig_nbformat": 4
 },
 "nbformat": 4,
 "nbformat_minor": 2
}
