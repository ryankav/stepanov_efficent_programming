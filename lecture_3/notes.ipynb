{
 "cells": [
  {
   "cell_type": "markdown",
   "metadata": {},
   "source": [
    "# Lecture 3  \n",
    "  \n",
    "## Summary  \n",
    "  \n",
    "This lecture Alex demonstrates the intended way to write instrumented. One of my early attempts wan't too far off. However, the interesting thing to note in Alex's implementation is that all the static parts of the class needed to make instrumented work are written in a seperate struct that instrumented inherits from. This keeps instrumented very similar to the singleton struct that was explored previously."
   ]
  },
  {
   "cell_type": "markdown",
   "metadata": {},
   "source": []
  }
 ],
 "metadata": {
  "language_info": {
   "name": "python"
  },
  "orig_nbformat": 4
 },
 "nbformat": 4,
 "nbformat_minor": 2
}
